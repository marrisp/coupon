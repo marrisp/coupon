{
 "cells": [
  {
   "cell_type": "markdown",
   "metadata": {},
   "source": [
    "### Will a Customer Accept the Coupon?\n",
    "\n",
    "**Context**\n",
    "\n",
    "Imagine driving through town and a coupon is delivered to your cell phone for a restaraunt near where you are driving. Would you accept that coupon and take a short detour to the restaraunt? Would you accept the coupon but use it on a sunbsequent trip? Would you ignore the coupon entirely? What if the coupon was for a bar instead of a restaraunt? What about a coffee house? Would you accept a bar coupon with a minor passenger in the car? What about if it was just you and your partner in the car? Would weather impact the rate of acceptance? What about the time of day?\n",
    "\n",
    "Obviously, proximity to the business is a factor on whether the coupon is delivered to the driver or not, but what are the factors that determine whether a driver accepts the coupon once it is delivered to them? How would you determine whether a driver is likely to accept a coupon?\n",
    "\n",
    "**Overview**\n",
    "\n",
    "The goal of this project is to use what you know about visualizations and probability distributions to distinguish between customers who accepted a driving coupon versus those that did not.\n",
    "\n",
    "**Data**\n",
    "\n",
    "This data comes to us from the UCI Machine Learning repository and was collected via a survey on Amazon Mechanical Turk. The survey describes different driving scenarios including the destination, current time, weather, passenger, etc., and then ask the person whether he will accept the coupon if he is the driver. Answers that the user will drive there ‘right away’ or ‘later before the coupon expires’ are labeled as ‘Y = 1’ and answers ‘no, I do not want the coupon’ are labeled as ‘Y = 0’.  There are five different types of coupons -- less expensive restaurants (under \\\\$20), coffee houses, carry out & take away, bar, and more expensive restaurants (\\\\$20 - \\\\$50). "
   ]
  },
  {
   "cell_type": "markdown",
   "metadata": {},
   "source": [
    "**Deliverables**\n",
    "\n",
    "Your final product should be a brief report that highlights the differences between customers who did and did not accept the coupons.  To explore the data you will utilize your knowledge of plotting, statistical summaries, and visualization using Python. You will publish your findings in a public facing github repository as your first portfolio piece. \n",
    "\n",
    "\n",
    "\n"
   ]
  },
  {
   "cell_type": "markdown",
   "metadata": {},
   "source": [
    "### Data Description\n",
    "Keep in mind that these values mentioned below are average values.\n",
    "\n",
    "The attributes of this data set include:\n",
    "1. User attributes\n",
    "    -  Gender: male, female\n",
    "    -  Age: below 21, 21 to 25, 26 to 30, etc.\n",
    "    -  Marital Status: single, married partner, unmarried partner, or widowed\n",
    "    -  Number of children: 0, 1, or more than 1\n",
    "    -  Education: high school, bachelors degree, associates degree, or graduate degree\n",
    "    -  Occupation: architecture & engineering, business & financial, etc.\n",
    "    -  Annual income: less than \\\\$12500, \\\\$12500 - \\\\$24999, \\\\$25000 - \\\\$37499, etc.\n",
    "    -  Number of times that he/she goes to a bar: 0, less than 1, 1 to 3, 4 to 8 or greater than 8\n",
    "    -  Number of times that he/she buys takeaway food: 0, less than 1, 1 to 3, 4 to 8 or greater\n",
    "    than 8\n",
    "    -  Number of times that he/she goes to a coffee house: 0, less than 1, 1 to 3, 4 to 8 or\n",
    "    greater than 8\n",
    "    -  Number of times that he/she eats at a restaurant with average expense less than \\\\$20 per\n",
    "    person: 0, less than 1, 1 to 3, 4 to 8 or greater than 8\n",
    "    -  Number of times that he/she goes to a bar: 0, less than 1, 1 to 3, 4 to 8 or greater than 8\n",
    "    \n",
    "\n",
    "2. Contextual attributes\n",
    "    - Driving destination: home, work, or no urgent destination\n",
    "    - Location of user, coupon and destination: we provide a map to show the geographical\n",
    "    location of the user, destination, and the venue, and we mark the distance between each\n",
    "    two places with time of driving. The user can see whether the venue is in the same\n",
    "    direction as the destination.\n",
    "    - Weather: sunny, rainy, or snowy\n",
    "    - Temperature: 30F, 55F, or 80F\n",
    "    - Time: 10AM, 2PM, or 6PM\n",
    "    - Passenger: alone, partner, kid(s), or friend(s)\n",
    "\n",
    "\n",
    "3. Coupon attributes\n",
    "    - time before it expires: 2 hours or one day"
   ]
  },
  {
   "cell_type": "code",
   "execution_count": 192,
   "metadata": {},
   "outputs": [],
   "source": [
    "import matplotlib.pyplot as plt\n",
    "import math as math\n",
    "import seaborn as sns\n",
    "import pandas as pd\n",
    "import plotly.express as px\n",
    "import numpy as np"
   ]
  },
  {
   "cell_type": "markdown",
   "metadata": {},
   "source": [
    "### Problems\n",
    "\n",
    "Use the prompts below to get started with your data analysis.  \n",
    "\n",
    "1. Read in the `coupons.csv` file.\n",
    "\n",
    "\n"
   ]
  },
  {
   "cell_type": "code",
   "execution_count": 193,
   "metadata": {},
   "outputs": [],
   "source": [
    "data = pd.read_csv('data/coupons.csv')"
   ]
  },
  {
   "cell_type": "code",
   "execution_count": 229,
   "metadata": {},
   "outputs": [
    {
     "data": {
      "text/plain": [
       "array([55, 80, 30])"
      ]
     },
     "execution_count": 229,
     "metadata": {},
     "output_type": "execute_result"
    }
   ],
   "source": [
    "data.head()\n",
    "data['temperature'].unique()"
   ]
  },
  {
   "cell_type": "markdown",
   "metadata": {},
   "source": [
    "2. Investigate the dataset for missing or problematic data."
   ]
  },
  {
   "cell_type": "code",
   "execution_count": 216,
   "metadata": {},
   "outputs": [
    {
     "data": {
      "text/plain": [
       "array(['Restaurant(<20)', 'Coffee House', 'Bar', 'Carry out & Take away',\n",
       "       'Restaurant(20-50)'], dtype=object)"
      ]
     },
     "execution_count": 216,
     "metadata": {},
     "output_type": "execute_result"
    }
   ],
   "source": [
    "data.head(10)\n",
    "data['coupon'].unique()"
   ]
  },
  {
   "cell_type": "code",
   "execution_count": 196,
   "metadata": {},
   "outputs": [
    {
     "data": {
      "text/html": [
       "<div>\n",
       "<style scoped>\n",
       "    .dataframe tbody tr th:only-of-type {\n",
       "        vertical-align: middle;\n",
       "    }\n",
       "\n",
       "    .dataframe tbody tr th {\n",
       "        vertical-align: top;\n",
       "    }\n",
       "\n",
       "    .dataframe thead th {\n",
       "        text-align: right;\n",
       "    }\n",
       "</style>\n",
       "<table border=\"1\" class=\"dataframe\">\n",
       "  <thead>\n",
       "    <tr style=\"text-align: right;\">\n",
       "      <th></th>\n",
       "      <th>destination</th>\n",
       "      <th>passanger</th>\n",
       "      <th>weather</th>\n",
       "      <th>temperature</th>\n",
       "      <th>time</th>\n",
       "      <th>coupon</th>\n",
       "      <th>expiration</th>\n",
       "      <th>gender</th>\n",
       "      <th>age</th>\n",
       "      <th>maritalStatus</th>\n",
       "      <th>...</th>\n",
       "      <th>CoffeeHouse</th>\n",
       "      <th>CarryAway</th>\n",
       "      <th>RestaurantLessThan20</th>\n",
       "      <th>Restaurant20To50</th>\n",
       "      <th>toCoupon_GEQ5min</th>\n",
       "      <th>toCoupon_GEQ15min</th>\n",
       "      <th>toCoupon_GEQ25min</th>\n",
       "      <th>direction_same</th>\n",
       "      <th>direction_opp</th>\n",
       "      <th>Y</th>\n",
       "    </tr>\n",
       "  </thead>\n",
       "  <tbody>\n",
       "    <tr>\n",
       "      <th>22</th>\n",
       "      <td>No Urgent Place</td>\n",
       "      <td>Alone</td>\n",
       "      <td>Sunny</td>\n",
       "      <td>55</td>\n",
       "      <td>2PM</td>\n",
       "      <td>Restaurant(&lt;20)</td>\n",
       "      <td>1d</td>\n",
       "      <td>Male</td>\n",
       "      <td>21</td>\n",
       "      <td>Single</td>\n",
       "      <td>...</td>\n",
       "      <td>less1</td>\n",
       "      <td>4~8</td>\n",
       "      <td>4~8</td>\n",
       "      <td>less1</td>\n",
       "      <td>1</td>\n",
       "      <td>0</td>\n",
       "      <td>0</td>\n",
       "      <td>0</td>\n",
       "      <td>1</td>\n",
       "      <td>1</td>\n",
       "    </tr>\n",
       "    <tr>\n",
       "      <th>23</th>\n",
       "      <td>No Urgent Place</td>\n",
       "      <td>Friend(s)</td>\n",
       "      <td>Sunny</td>\n",
       "      <td>80</td>\n",
       "      <td>10AM</td>\n",
       "      <td>Coffee House</td>\n",
       "      <td>2h</td>\n",
       "      <td>Male</td>\n",
       "      <td>21</td>\n",
       "      <td>Single</td>\n",
       "      <td>...</td>\n",
       "      <td>less1</td>\n",
       "      <td>4~8</td>\n",
       "      <td>4~8</td>\n",
       "      <td>less1</td>\n",
       "      <td>1</td>\n",
       "      <td>0</td>\n",
       "      <td>0</td>\n",
       "      <td>0</td>\n",
       "      <td>1</td>\n",
       "      <td>0</td>\n",
       "    </tr>\n",
       "    <tr>\n",
       "      <th>24</th>\n",
       "      <td>No Urgent Place</td>\n",
       "      <td>Friend(s)</td>\n",
       "      <td>Sunny</td>\n",
       "      <td>80</td>\n",
       "      <td>10AM</td>\n",
       "      <td>Bar</td>\n",
       "      <td>1d</td>\n",
       "      <td>Male</td>\n",
       "      <td>21</td>\n",
       "      <td>Single</td>\n",
       "      <td>...</td>\n",
       "      <td>less1</td>\n",
       "      <td>4~8</td>\n",
       "      <td>4~8</td>\n",
       "      <td>less1</td>\n",
       "      <td>1</td>\n",
       "      <td>0</td>\n",
       "      <td>0</td>\n",
       "      <td>0</td>\n",
       "      <td>1</td>\n",
       "      <td>1</td>\n",
       "    </tr>\n",
       "    <tr>\n",
       "      <th>25</th>\n",
       "      <td>No Urgent Place</td>\n",
       "      <td>Friend(s)</td>\n",
       "      <td>Sunny</td>\n",
       "      <td>80</td>\n",
       "      <td>10AM</td>\n",
       "      <td>Carry out &amp; Take away</td>\n",
       "      <td>2h</td>\n",
       "      <td>Male</td>\n",
       "      <td>21</td>\n",
       "      <td>Single</td>\n",
       "      <td>...</td>\n",
       "      <td>less1</td>\n",
       "      <td>4~8</td>\n",
       "      <td>4~8</td>\n",
       "      <td>less1</td>\n",
       "      <td>1</td>\n",
       "      <td>1</td>\n",
       "      <td>0</td>\n",
       "      <td>0</td>\n",
       "      <td>1</td>\n",
       "      <td>0</td>\n",
       "    </tr>\n",
       "    <tr>\n",
       "      <th>26</th>\n",
       "      <td>No Urgent Place</td>\n",
       "      <td>Friend(s)</td>\n",
       "      <td>Sunny</td>\n",
       "      <td>80</td>\n",
       "      <td>2PM</td>\n",
       "      <td>Coffee House</td>\n",
       "      <td>1d</td>\n",
       "      <td>Male</td>\n",
       "      <td>21</td>\n",
       "      <td>Single</td>\n",
       "      <td>...</td>\n",
       "      <td>less1</td>\n",
       "      <td>4~8</td>\n",
       "      <td>4~8</td>\n",
       "      <td>less1</td>\n",
       "      <td>1</td>\n",
       "      <td>0</td>\n",
       "      <td>0</td>\n",
       "      <td>0</td>\n",
       "      <td>1</td>\n",
       "      <td>0</td>\n",
       "    </tr>\n",
       "    <tr>\n",
       "      <th>...</th>\n",
       "      <td>...</td>\n",
       "      <td>...</td>\n",
       "      <td>...</td>\n",
       "      <td>...</td>\n",
       "      <td>...</td>\n",
       "      <td>...</td>\n",
       "      <td>...</td>\n",
       "      <td>...</td>\n",
       "      <td>...</td>\n",
       "      <td>...</td>\n",
       "      <td>...</td>\n",
       "      <td>...</td>\n",
       "      <td>...</td>\n",
       "      <td>...</td>\n",
       "      <td>...</td>\n",
       "      <td>...</td>\n",
       "      <td>...</td>\n",
       "      <td>...</td>\n",
       "      <td>...</td>\n",
       "      <td>...</td>\n",
       "      <td>...</td>\n",
       "    </tr>\n",
       "    <tr>\n",
       "      <th>169</th>\n",
       "      <td>Home</td>\n",
       "      <td>Alone</td>\n",
       "      <td>Sunny</td>\n",
       "      <td>80</td>\n",
       "      <td>6PM</td>\n",
       "      <td>Coffee House</td>\n",
       "      <td>2h</td>\n",
       "      <td>Male</td>\n",
       "      <td>26</td>\n",
       "      <td>Single</td>\n",
       "      <td>...</td>\n",
       "      <td>gt8</td>\n",
       "      <td>gt8</td>\n",
       "      <td>gt8</td>\n",
       "      <td>gt8</td>\n",
       "      <td>1</td>\n",
       "      <td>0</td>\n",
       "      <td>0</td>\n",
       "      <td>0</td>\n",
       "      <td>1</td>\n",
       "      <td>0</td>\n",
       "    </tr>\n",
       "    <tr>\n",
       "      <th>176</th>\n",
       "      <td>No Urgent Place</td>\n",
       "      <td>Alone</td>\n",
       "      <td>Sunny</td>\n",
       "      <td>55</td>\n",
       "      <td>2PM</td>\n",
       "      <td>Restaurant(&lt;20)</td>\n",
       "      <td>1d</td>\n",
       "      <td>Female</td>\n",
       "      <td>26</td>\n",
       "      <td>Single</td>\n",
       "      <td>...</td>\n",
       "      <td>1~3</td>\n",
       "      <td>4~8</td>\n",
       "      <td>1~3</td>\n",
       "      <td>less1</td>\n",
       "      <td>1</td>\n",
       "      <td>0</td>\n",
       "      <td>0</td>\n",
       "      <td>0</td>\n",
       "      <td>1</td>\n",
       "      <td>1</td>\n",
       "    </tr>\n",
       "    <tr>\n",
       "      <th>177</th>\n",
       "      <td>No Urgent Place</td>\n",
       "      <td>Friend(s)</td>\n",
       "      <td>Sunny</td>\n",
       "      <td>80</td>\n",
       "      <td>10AM</td>\n",
       "      <td>Coffee House</td>\n",
       "      <td>2h</td>\n",
       "      <td>Female</td>\n",
       "      <td>26</td>\n",
       "      <td>Single</td>\n",
       "      <td>...</td>\n",
       "      <td>1~3</td>\n",
       "      <td>4~8</td>\n",
       "      <td>1~3</td>\n",
       "      <td>less1</td>\n",
       "      <td>1</td>\n",
       "      <td>0</td>\n",
       "      <td>0</td>\n",
       "      <td>0</td>\n",
       "      <td>1</td>\n",
       "      <td>1</td>\n",
       "    </tr>\n",
       "    <tr>\n",
       "      <th>178</th>\n",
       "      <td>No Urgent Place</td>\n",
       "      <td>Friend(s)</td>\n",
       "      <td>Sunny</td>\n",
       "      <td>80</td>\n",
       "      <td>10AM</td>\n",
       "      <td>Bar</td>\n",
       "      <td>1d</td>\n",
       "      <td>Female</td>\n",
       "      <td>26</td>\n",
       "      <td>Single</td>\n",
       "      <td>...</td>\n",
       "      <td>1~3</td>\n",
       "      <td>4~8</td>\n",
       "      <td>1~3</td>\n",
       "      <td>less1</td>\n",
       "      <td>1</td>\n",
       "      <td>0</td>\n",
       "      <td>0</td>\n",
       "      <td>0</td>\n",
       "      <td>1</td>\n",
       "      <td>0</td>\n",
       "    </tr>\n",
       "    <tr>\n",
       "      <th>179</th>\n",
       "      <td>No Urgent Place</td>\n",
       "      <td>Friend(s)</td>\n",
       "      <td>Sunny</td>\n",
       "      <td>80</td>\n",
       "      <td>10AM</td>\n",
       "      <td>Carry out &amp; Take away</td>\n",
       "      <td>2h</td>\n",
       "      <td>Female</td>\n",
       "      <td>26</td>\n",
       "      <td>Single</td>\n",
       "      <td>...</td>\n",
       "      <td>1~3</td>\n",
       "      <td>4~8</td>\n",
       "      <td>1~3</td>\n",
       "      <td>less1</td>\n",
       "      <td>1</td>\n",
       "      <td>1</td>\n",
       "      <td>0</td>\n",
       "      <td>0</td>\n",
       "      <td>1</td>\n",
       "      <td>1</td>\n",
       "    </tr>\n",
       "  </tbody>\n",
       "</table>\n",
       "<p>100 rows × 26 columns</p>\n",
       "</div>"
      ],
      "text/plain": [
       "         destination  passanger weather  temperature  time  \\\n",
       "22   No Urgent Place      Alone   Sunny           55   2PM   \n",
       "23   No Urgent Place  Friend(s)   Sunny           80  10AM   \n",
       "24   No Urgent Place  Friend(s)   Sunny           80  10AM   \n",
       "25   No Urgent Place  Friend(s)   Sunny           80  10AM   \n",
       "26   No Urgent Place  Friend(s)   Sunny           80   2PM   \n",
       "..               ...        ...     ...          ...   ...   \n",
       "169             Home      Alone   Sunny           80   6PM   \n",
       "176  No Urgent Place      Alone   Sunny           55   2PM   \n",
       "177  No Urgent Place  Friend(s)   Sunny           80  10AM   \n",
       "178  No Urgent Place  Friend(s)   Sunny           80  10AM   \n",
       "179  No Urgent Place  Friend(s)   Sunny           80  10AM   \n",
       "\n",
       "                    coupon expiration  gender age maritalStatus  ...  \\\n",
       "22         Restaurant(<20)         1d    Male  21        Single  ...   \n",
       "23            Coffee House         2h    Male  21        Single  ...   \n",
       "24                     Bar         1d    Male  21        Single  ...   \n",
       "25   Carry out & Take away         2h    Male  21        Single  ...   \n",
       "26            Coffee House         1d    Male  21        Single  ...   \n",
       "..                     ...        ...     ...  ..           ...  ...   \n",
       "169           Coffee House         2h    Male  26        Single  ...   \n",
       "176        Restaurant(<20)         1d  Female  26        Single  ...   \n",
       "177           Coffee House         2h  Female  26        Single  ...   \n",
       "178                    Bar         1d  Female  26        Single  ...   \n",
       "179  Carry out & Take away         2h  Female  26        Single  ...   \n",
       "\n",
       "     CoffeeHouse CarryAway RestaurantLessThan20 Restaurant20To50  \\\n",
       "22         less1       4~8                  4~8            less1   \n",
       "23         less1       4~8                  4~8            less1   \n",
       "24         less1       4~8                  4~8            less1   \n",
       "25         less1       4~8                  4~8            less1   \n",
       "26         less1       4~8                  4~8            less1   \n",
       "..           ...       ...                  ...              ...   \n",
       "169          gt8       gt8                  gt8              gt8   \n",
       "176          1~3       4~8                  1~3            less1   \n",
       "177          1~3       4~8                  1~3            less1   \n",
       "178          1~3       4~8                  1~3            less1   \n",
       "179          1~3       4~8                  1~3            less1   \n",
       "\n",
       "    toCoupon_GEQ5min toCoupon_GEQ15min toCoupon_GEQ25min direction_same  \\\n",
       "22                 1                 0                 0              0   \n",
       "23                 1                 0                 0              0   \n",
       "24                 1                 0                 0              0   \n",
       "25                 1                 1                 0              0   \n",
       "26                 1                 0                 0              0   \n",
       "..               ...               ...               ...            ...   \n",
       "169                1                 0                 0              0   \n",
       "176                1                 0                 0              0   \n",
       "177                1                 0                 0              0   \n",
       "178                1                 0                 0              0   \n",
       "179                1                 1                 0              0   \n",
       "\n",
       "    direction_opp  Y  \n",
       "22              1  1  \n",
       "23              1  0  \n",
       "24              1  1  \n",
       "25              1  0  \n",
       "26              1  0  \n",
       "..            ... ..  \n",
       "169             1  0  \n",
       "176             1  1  \n",
       "177             1  1  \n",
       "178             1  0  \n",
       "179             1  1  \n",
       "\n",
       "[100 rows x 26 columns]"
      ]
     },
     "execution_count": 196,
     "metadata": {},
     "output_type": "execute_result"
    }
   ],
   "source": [
    "#3.Decide what to do about your missing data -- drop, replace, other...\n",
    "\n",
    "#Removing the data where destination is Work but the occupation is Unemployed\n",
    "data = data.query(\"destination != 'Work' and occupation != 'Unemployed'\")\n",
    "data.head(100)"
   ]
  },
  {
   "cell_type": "code",
   "execution_count": 197,
   "metadata": {
    "scrolled": true
   },
   "outputs": [],
   "source": [
    "# checking for data where direction_same and direction_opp is 1\n",
    "#Added new column Accept_Reject\n",
    "def validate_y(Y):\n",
    "    if Y == 1:\n",
    "        decision = 'Accepted'\n",
    "    else:\n",
    "        decision = 'Rejected'\n",
    "    return decision\n",
    "\n",
    "data['Accept_Reject'] = data['Y'].apply(validate_y)\n"
   ]
  },
  {
   "cell_type": "code",
   "execution_count": null,
   "metadata": {},
   "outputs": [],
   "source": []
  },
  {
   "cell_type": "markdown",
   "metadata": {},
   "source": [
    "4. What proportion of the total observations chose to accept the coupon? \n",
    "\n"
   ]
  },
  {
   "cell_type": "code",
   "execution_count": 198,
   "metadata": {},
   "outputs": [
    {
     "data": {
      "text/html": [
       "<div>\n",
       "<style scoped>\n",
       "    .dataframe tbody tr th:only-of-type {\n",
       "        vertical-align: middle;\n",
       "    }\n",
       "\n",
       "    .dataframe tbody tr th {\n",
       "        vertical-align: top;\n",
       "    }\n",
       "\n",
       "    .dataframe thead th {\n",
       "        text-align: right;\n",
       "    }\n",
       "</style>\n",
       "<table border=\"1\" class=\"dataframe\">\n",
       "  <thead>\n",
       "    <tr style=\"text-align: right;\">\n",
       "      <th></th>\n",
       "      <th>coupon</th>\n",
       "      <th>total_count</th>\n",
       "      <th>Accept_Reject</th>\n",
       "      <th>coupon_cnt</th>\n",
       "      <th>acceptance_proportion %</th>\n",
       "    </tr>\n",
       "  </thead>\n",
       "  <tbody>\n",
       "    <tr>\n",
       "      <th>0</th>\n",
       "      <td>Bar</td>\n",
       "      <td>1309</td>\n",
       "      <td>Accepted</td>\n",
       "      <td>580</td>\n",
       "      <td>44.308633</td>\n",
       "    </tr>\n",
       "    <tr>\n",
       "      <th>1</th>\n",
       "      <td>Carry out &amp; Take away</td>\n",
       "      <td>1385</td>\n",
       "      <td>Accepted</td>\n",
       "      <td>1066</td>\n",
       "      <td>76.967509</td>\n",
       "    </tr>\n",
       "    <tr>\n",
       "      <th>2</th>\n",
       "      <td>Coffee House</td>\n",
       "      <td>2645</td>\n",
       "      <td>Accepted</td>\n",
       "      <td>1354</td>\n",
       "      <td>51.190926</td>\n",
       "    </tr>\n",
       "    <tr>\n",
       "      <th>3</th>\n",
       "      <td>Restaurant(20-50)</td>\n",
       "      <td>893</td>\n",
       "      <td>Accepted</td>\n",
       "      <td>416</td>\n",
       "      <td>46.584546</td>\n",
       "    </tr>\n",
       "    <tr>\n",
       "      <th>4</th>\n",
       "      <td>Restaurant(&lt;20)</td>\n",
       "      <td>1888</td>\n",
       "      <td>Accepted</td>\n",
       "      <td>1398</td>\n",
       "      <td>74.046610</td>\n",
       "    </tr>\n",
       "  </tbody>\n",
       "</table>\n",
       "</div>"
      ],
      "text/plain": [
       "                  coupon  total_count Accept_Reject  coupon_cnt  \\\n",
       "0                    Bar         1309      Accepted         580   \n",
       "1  Carry out & Take away         1385      Accepted        1066   \n",
       "2           Coffee House         2645      Accepted        1354   \n",
       "3      Restaurant(20-50)          893      Accepted         416   \n",
       "4        Restaurant(<20)         1888      Accepted        1398   \n",
       "\n",
       "   acceptance_proportion %  \n",
       "0                44.308633  \n",
       "1                76.967509  \n",
       "2                51.190926  \n",
       "3                46.584546  \n",
       "4                74.046610  "
      ]
     },
     "execution_count": 198,
     "metadata": {},
     "output_type": "execute_result"
    }
   ],
   "source": [
    "# Grouping the data based on the coupon category to get the total count of coupons\n",
    "data_acceptance=data.groupby(['coupon']).size().to_frame('total_count').reset_index()\n",
    "\n",
    "#Creating another data frame to get th count of coupons based on acceptance or rejection\n",
    "data_coupon_split= data.query(\"Y ==1\").groupby(['coupon','Accept_Reject']).size().to_frame('coupon_cnt').reset_index()\n",
    "\n",
    "#Merging data_acceptance and data_coupon_split dataframes\n",
    "data_merged=pd.merge(left=data_acceptance, right=data_coupon_split, on='coupon', how='inner')\n",
    "\n",
    "#New attribute being added to the dataframe data_merged to display the acceptance proportion percent for each coupon category\n",
    "data_merged['acceptance_proportion %'] = data_merged['coupon_cnt']/data_merged['total_count']*100\n",
    "\n",
    "#displaying first 5 rows of the dataframe data_merged\n",
    "data_merged.head(5)"
   ]
  },
  {
   "cell_type": "markdown",
   "metadata": {},
   "source": [
    "5. Use a bar plot to visualize the `coupon` column."
   ]
  },
  {
   "cell_type": "code",
   "execution_count": 199,
   "metadata": {},
   "outputs": [],
   "source": [
    "#Generating bar plot to display the acceptance proportion % for each coupon category\n",
    "fig=px.bar(data_merged,x='coupon',y='acceptance_proportion %', color='coupon')\n",
    "\n",
    "#Updating the xaxis and yaxis label for the graph\n",
    "fig.update_layout(xaxis_title='Coupon Category', yaxis_title='Acceptance %')\n",
    "fig.write_image('images/AcceptanceProportion.png')\n"
   ]
  },
  {
   "cell_type": "code",
   "execution_count": 200,
   "metadata": {},
   "outputs": [],
   "source": [
    "#Generating another graph to display the percetange of acceptance and rejection for the coupon category\n",
    "\n",
    "data_coupon_split_1= data.groupby(['coupon','Accept_Reject']).size().to_frame('coupon_cnt').reset_index()\n",
    "#Merging 2 dataframes data_accpetance and data_coupon_split\n",
    "data_merged_accept_reject=pd.merge(left=data_acceptance, right=data_coupon_split_1, on='coupon', how='inner')\n",
    "\n",
    "# Creating new attribute proportion % to get the acceptance/rejection percent for each coupon category\n",
    "data_merged_accept_reject['proportion %'] = data_merged_accept_reject['coupon_cnt']/data_merged_accept_reject['total_count']*100\n",
    "\n",
    "# Generating bar plot using plotly\n",
    "fig=px.bar(data_merged_accept_reject,x='coupon',y='proportion %', color='Accept_Reject')\n",
    "\n",
    "# Setting the xaxis and yaxis lable\n",
    "fig.update_layout(xaxis_title='Coupon Category', yaxis_title='Acceptance %')\n",
    "fig.write_image('images/AcceptanceRejection.png')"
   ]
  },
  {
   "cell_type": "code",
   "execution_count": 212,
   "metadata": {},
   "outputs": [],
   "source": [
    "#6. Use a histogram to visualize the temperature column."
   ]
  },
  {
   "cell_type": "code",
   "execution_count": 202,
   "metadata": {},
   "outputs": [
    {
     "data": {
      "image/png": "[encoded data removed]",
      "text/plain": [
       "<Figure size 640x480 with 1 Axes>"
      ]
     },
     "metadata": {},
     "output_type": "display_data"
    }
   ],
   "source": [
    "sns.histplot(data['temperature'], bins=20)\n",
    "plt.show\n",
    "plt.savefig('images/Temparature.png')"
   ]
  },
  {
   "cell_type": "code",
   "execution_count": null,
   "metadata": {},
   "outputs": [],
   "source": []
  },
  {
   "cell_type": "code",
   "execution_count": null,
   "metadata": {},
   "outputs": [],
   "source": []
  },
  {
   "cell_type": "code",
   "execution_count": null,
   "metadata": {},
   "outputs": [],
   "source": []
  },
  {
   "cell_type": "code",
   "execution_count": null,
   "metadata": {},
   "outputs": [],
   "source": []
  },
  {
   "cell_type": "markdown",
   "metadata": {},
   "source": [
    "**Investigating the Bar Coupons**\n",
    "\n",
    "Now, we will lead you through an exploration of just the bar related coupons.  \n",
    "\n",
    "1. Create a new `DataFrame` that contains just the bar coupons.\n"
   ]
  },
  {
   "cell_type": "code",
   "execution_count": 213,
   "metadata": {},
   "outputs": [],
   "source": [
    "#Creating new data frame df_bar by filtering the rows which have coupon is Bar and excluding null values in Bar column\n",
    "df_bar = data.query(\"coupon == 'Bar'\")\n"
   ]
  },
  {
   "cell_type": "markdown",
   "metadata": {},
   "source": [
    "2. What proportion of bar coupons were accepted?\n"
   ]
  },
  {
   "cell_type": "code",
   "execution_count": 204,
   "metadata": {},
   "outputs": [
    {
     "data": {
      "text/html": [
       "<div>\n",
       "<style scoped>\n",
       "    .dataframe tbody tr th:only-of-type {\n",
       "        vertical-align: middle;\n",
       "    }\n",
       "\n",
       "    .dataframe tbody tr th {\n",
       "        vertical-align: top;\n",
       "    }\n",
       "\n",
       "    .dataframe thead th {\n",
       "        text-align: right;\n",
       "    }\n",
       "</style>\n",
       "<table border=\"1\" class=\"dataframe\">\n",
       "  <thead>\n",
       "    <tr style=\"text-align: right;\">\n",
       "      <th></th>\n",
       "      <th>coupon</th>\n",
       "      <th>total_count</th>\n",
       "      <th>Accept_Reject</th>\n",
       "      <th>coupon_cnt</th>\n",
       "      <th>acceptance_proportion %</th>\n",
       "    </tr>\n",
       "  </thead>\n",
       "  <tbody>\n",
       "    <tr>\n",
       "      <th>0</th>\n",
       "      <td>Bar</td>\n",
       "      <td>1309</td>\n",
       "      <td>Accepted</td>\n",
       "      <td>580</td>\n",
       "      <td>44.308633</td>\n",
       "    </tr>\n",
       "  </tbody>\n",
       "</table>\n",
       "</div>"
      ],
      "text/plain": [
       "  coupon  total_count Accept_Reject  coupon_cnt  acceptance_proportion %\n",
       "0    Bar         1309      Accepted         580                44.308633"
      ]
     },
     "execution_count": 204,
     "metadata": {},
     "output_type": "execute_result"
    }
   ],
   "source": [
    "# Grouping the data based on the coupon category to get the total count of coupons\n",
    "data_bar_acceptance=df_bar.groupby(['coupon']).size().to_frame('total_count').reset_index()\n",
    "\n",
    "#Creating another data frame to get th count of coupons based on acceptance or rejection\n",
    "data_barcoupon_split= data.query(\"Y ==1\").groupby(['coupon','Accept_Reject']).size().to_frame('coupon_cnt').reset_index()\n",
    "\n",
    "#Merging data_acceptance and data_coupon_split dataframes\n",
    "data_bar_merged=pd.merge(left=data_bar_acceptance, right=data_barcoupon_split, on='coupon', how='inner')\n",
    "\n",
    "#New attribute being added to the dataframe data_merged to display the acceptance proportion percent for each coupon category\n",
    "data_bar_merged['acceptance_proportion %'] = data_bar_merged['coupon_cnt']/data_bar_merged['total_count']*100\n",
    "\n",
    "#displaying first 5 rows of the dataframe data_merged\n",
    "data_bar_merged.head(5)"
   ]
  },
  {
   "cell_type": "markdown",
   "metadata": {},
   "source": [
    "3. Compare the acceptance rate between those who went to a bar 3 or fewer times a month to those who went more.\n"
   ]
  },
  {
   "cell_type": "code",
   "execution_count": 214,
   "metadata": {},
   "outputs": [
    {
     "data": {
      "image/png": "[encoded data removed]",
      "text/plain": [
       "<Figure size 640x480 with 1 Axes>"
      ]
     },
     "metadata": {},
     "output_type": "display_data"
    },
    {
     "data": {
      "text/plain": [
       "<Figure size 640x480 with 0 Axes>"
      ]
     },
     "metadata": {},
     "output_type": "display_data"
    }
   ],
   "source": [
    "#Perform data cleansing by exlcuding rows where blanks exists in Bar column for the coupon='Bar'\n",
    "df_bar = df_bar.dropna(subset=['Bar'])\n",
    "\n",
    "df_total_bar_visits = df_bar.dropna(subset=['Bar'])\n",
    "\n",
    "df_total_bar_visits = df_total_bar_visits.query(\"Bar != 'never'\")\n",
    "\n",
    "total_bar_visits = len(df_total_bar_visits)\n",
    "\n",
    "\n",
    "\n",
    "\n",
    "#Perform data cleansing on Bar column by classifying it into 4 values\n",
    "df_bar_cleanse =df_bar.replace({'Bar': {'1~3': '1-3 Visits','never': 'Never Visited', 'less1': 'Never Visited','4~8': 'More than 3 Visits','gt8': 'More than 3 Visits'}}).reset_index()\n",
    "\n",
    "\n",
    "# Grouping the data based on the coupon category to get the total count of coupons\n",
    "data_barcleanse_acceptance=df_bar_cleanse.groupby(['coupon']).size().to_frame('total_count').reset_index()\n",
    "\n",
    "\n",
    "#Creating another data frame to get th count of coupons based on acceptance or rejection\n",
    "data_barcoupon_split= df_bar_cleanse.query(\"Y ==1\").groupby(['coupon','Bar','Accept_Reject']).size().to_frame('coupon_cnt').reset_index()\n",
    "\n",
    "\n",
    "#Merging data_acceptance and data_coupon_split dataframes\n",
    "data_bar_merged=pd.merge(left=data_barcleanse_acceptance, right=data_barcoupon_split, on='coupon', how='inner')\n",
    "\n",
    "#New attribute being added to the dataframe data_merged to display the acceptance proportion percent for each coupon category\n",
    "data_bar_merged['acceptance_proportion %'] = data_bar_merged['coupon_cnt']/data_bar_merged['total_count']*100\n",
    "data_bar_merged1=data_bar_merged.query(\"Bar !='Never Visited'\")\n",
    "data_bar_merged.head(10)\n",
    "\n",
    "#Generate graph to compare the acceptance rate\n",
    "plt.bar(data_bar_merged1['Bar'],data_bar_merged1['acceptance_proportion %'])\n",
    "plt.title('Acceptance Rate Between 1-3 Visits and More Than 3 Visits')\n",
    "plt.xlabel('Visits')\n",
    "plt.ylabel('Acceptance Rate(%)')\n",
    "plt.show()\n",
    "plt.savefig('images/AcceptanceRateVisits.png')\n",
    "data_bar_merged1.head(10)\n",
    "\n",
    "#The difference between the acceptance rate for 1-3 Vists and more than 3 visist is 5.33%\n",
    "\n",
    "acceptance_rate_variance = 5.33\n"
   ]
  },
  {
   "cell_type": "markdown",
   "metadata": {},
   "source": [
    "4. Compare the acceptance rate between drivers who go to a bar more than once a month and are over the age of 25 to the all others.  Is there a difference?\n"
   ]
  },
  {
   "cell_type": "code",
   "execution_count": 206,
   "metadata": {},
   "outputs": [
    {
     "name": "stdout",
     "output_type": "stream",
     "text": [
      "Total Drivers visiting Bar are  400\n",
      "Drivers Above 25 and visiting more than once a month are  198\n",
      "Drivers of all ages excluding Above 25 years of age visiting Bar are  73\n",
      "Acceptance rate for driver above 25 years of age is 26 percent\n",
      "Acceptance rate for all others drivers excluding above 25 years of age is 10 percent\n",
      "Yes, there is a difference of 16 percent between 25 years above age Vs all others\n"
     ]
    }
   ],
   "source": [
    "#Perform data cleansing by exlcuding rows where blanks exists in Bar column for the coupon='Bar'\n",
    "df_bar_drivers = df_bar.dropna(subset=['Bar'])\n",
    "\n",
    "\n",
    "# defining list for Bar visits\n",
    "once_a_month = ['1~3','4~8','gt8']\n",
    "\n",
    "\n",
    "#cleansing data by replacing the age to categorize into 2 groups Below 25 ad Above 25\n",
    "df_bardrivers_age=df_bar_drivers.replace({'age': {'21': 'Below 25','46': 'Above 25', '26': 'Above 25','41': 'Above 25','31': 'Above 25','36': 'Above 25','50plus': 'Above 25','below21': 'Below 25'}}).reset_index()\n",
    "\n",
    "#querying dataframe to extract records where drivers visited Bar more than once a month\n",
    "df_bardrivers_age =df_bardrivers_age.query('Bar in @once_a_month')\n",
    "\n",
    "#Get total rows in the dataframe\n",
    "df_total_bardrivers = len(df_bardrivers_age)\n",
    "print(\"Total Drivers visiting Bar are \",df_total_bardrivers)\n",
    "\n",
    "#querying dataframe to extract records where drivers above 25 years of age and accepted the coupon\n",
    "df_bardrivers_25age =df_bardrivers_age.query(\"age == 'Above 25' and Y == 1\")\n",
    "\n",
    "#Get total rows in the dataframe\n",
    "df_25above_drivers = len(df_bardrivers_25age)\n",
    "print(\"Drivers Above 25 and visiting more than once a month are \", df_25above_drivers)\n",
    "\n",
    "#querying dataframe to extract records where drivers of all other ages excluding Above 25 and accepted the coupon\n",
    "df_allothers_drivers=df_bardrivers_age.query(\"age == 'Below 25' and Y == 1\")\n",
    "\n",
    "#Get total rows in the dataframe\n",
    "df_allothers_count = len(df_allothers_drivers)\n",
    "print(\"Drivers of all ages excluding Above 25 years of age visiting Bar are \", df_allothers_count)\n",
    "\n",
    "#Calculate the acceptance rate for 25 Above\n",
    "accept_rate_above25 = math.ceil(df_25above_drivers/total_bar_visits*100)\n",
    "print(\"Acceptance rate for driver above 25 years of age is \"+ str(accept_rate_above25) +\" percent\")\n",
    "\n",
    "#Calculate the acceptance rate for all other ages\n",
    "accept_rate_allothers = math.ceil(df_allothers_count/total_bar_visits*100)\n",
    "print(\"Acceptance rate for all others drivers excluding above 25 years of age is \"+ str(accept_rate_allothers) +\" percent\")\n",
    "\n",
    "#Calculate the acceptance rate variance between Above 25 age drivers and all other ages(excluding Above 25) drivers\n",
    "accept_rate_variance = accept_rate_above25 - accept_rate_allothers\n",
    "\n",
    "final_conclusion = \"Yes, there is a difference of \" + str(accept_rate_variance) + \" percent between 25 years above age Vs all others\"\n",
    "\n",
    "print(final_conclusion)\n",
    "\n",
    "\n"
   ]
  },
  {
   "cell_type": "markdown",
   "metadata": {},
   "source": [
    "5. Use the same process to compare the acceptance rate between drivers who go to bars more than once a month and had passengers that were not a kid and had occupations other than farming, fishing, or forestry. \n"
   ]
  },
  {
   "cell_type": "code",
   "execution_count": 215,
   "metadata": {},
   "outputs": [
    {
     "name": "stdout",
     "output_type": "stream",
     "text": [
      "Total Drivers having passangers with no kids and occupation is not Farming Fishing, or Forestry are  533\n",
      "Acceptance rate for the drivers with passengers other than kids, visiting bar visiting more than once a month is 68 percent.\n",
      "Total Drivers having passangers with kids, visiting bar less than once in a month and occupation is Farming Fishing, or Forestry are  1\n",
      "Acceptance rate for the drivers with passengers other than kids, visiting bar visiting more than once a month is 68 percent.\n",
      "Acceptance rate for the drivers with passengers with kids, visiting bar visiting less than once a month is 1 percent.\n",
      "The variance between the two acceptance rate is 67 percent.\n"
     ]
    }
   ],
   "source": [
    "\n",
    "#querying dataframe to extract records where drivers do not have passengers as Kids and occupation other than 'Farming Fishing & Forestry'\n",
    "df_barpassangers_nokid =df_bardrivers_age.query(\"passanger != 'Kid(s)' and Y == 1 and occupation !='Farming Fishing & Forestry'\")\n",
    "\n",
    "\n",
    "#Get total rows in the dataframe\n",
    "df_bardrivers_nokids = len(df_barpassangers_nokid)\n",
    "print(\"Total Drivers having passangers with no kids and occupation is not Farming Fishing, or Forestry are \", df_bardrivers_nokids)\n",
    "\n",
    "\n",
    "#Calculate the acceptance rate for the Drivers who do not have passengers as kids\n",
    "accept_rate_nokids = math.ceil(df_bardrivers_nokids/total_bar_visits*100)\n",
    "print(\"Acceptance rate for the drivers with passengers other than kids, visiting bar visiting more than once a month is \" + str(accept_rate_nokids) + \" percent.\")\n",
    "\n",
    "\n",
    "#querying dataframe to extract records where drivers who have passengers as Kids and occupation other than 'Farming Fishing & Forestry'\n",
    "df_barpassangers_kid =df_bar_drivers.query(\"passanger == 'Kid(s)' and Y == 1 and occupation == 'Farming Fishing & Forestry' and Bar == 'less1'\")\n",
    "\n",
    "df_bardrivers_kid = len(df_barpassangers_kid)\n",
    "print(\"Total Drivers having passangers with kids, visiting bar less than once in a month and occupation is Farming Fishing, or Forestry are \", df_bardrivers_kid)\n",
    "\n",
    "#Calculate the acceptance rate for the Drivers who do not have passengers as kids\n",
    "accept_rate_nokids = math.ceil(df_bardrivers_nokids/total_bar_visits*100)\n",
    "print(\"Acceptance rate for the drivers with passengers other than kids, visiting bar visiting more than once a month is \" + str(accept_rate_nokids) + \" percent.\")\n",
    "\n",
    "#Calculate the acceptance rate for the Drivers who do not have passengers as kids\n",
    "accept_rate_kids = math.ceil(df_bardrivers_kid/total_bar_visits*100)\n",
    "print(\"Acceptance rate for the drivers with passengers with kids, visiting bar visiting less than once a month is \" + str(accept_rate_kids) + \" percent.\")\n",
    "\n",
    "\n",
    "#Compare and derive the variance between  Drivers with no kids as passengers and Drivers of age above 25 visiting more than once a month\n",
    "\n",
    "accept_rate_result = (accept_rate_nokids - accept_rate_kids)\n",
    "\n",
    "print(\"The variance between the two acceptance rate is \" + str(abs(accept_rate_result)) + \" percent.\")\n",
    "\n",
    "\n"
   ]
  },
  {
   "cell_type": "markdown",
   "metadata": {},
   "source": [
    "6. Compare the acceptance rates between those drivers who:\n",
    "\n",
    "- go to bars more than once a month, had passengers that were not a kid, and were not widowed *OR*\n",
    "- go to bars more than once a month and are under the age of 30 *OR*\n",
    "- go to cheap restaurants more than 4 times a month and income is less than 50K. \n",
    "\n"
   ]
  },
  {
   "cell_type": "code",
   "execution_count": 208,
   "metadata": {},
   "outputs": [
    {
     "name": "stdout",
     "output_type": "stream",
     "text": [
      "Total Drivers having passengers with no kids, visited bar more than once a month, and not widowed  254\n",
      "Acceptance rate for the drivers with passengers other than kids, visiting bar more than once a month is  32.11125158027813\n"
     ]
    }
   ],
   "source": [
    "#go to bars more than once a month, had passengers that were not a kid, and were not widowed\n",
    "\n",
    "#querying dataframe to extract records where drivers do not have passengers as Kids, visited bar more than once a month, and not widowed\n",
    "df_bar_nokidwidowed =df_bardrivers_age.query(\"passanger != 'Kid(s)' and Y == 1 and maritalStatus !='Widowed'\")\n",
    "\n",
    "#Get total rows in the dataframe\n",
    "df_bar_nokidwidowed = len(df_bar_nokidwidowed)\n",
    "print(\"Total Drivers having passengers with no kids, visited bar more than once a month, and not widowed \", df_bar_nokidwidowed)\n",
    "\n",
    "\n",
    "#Calculate the acceptance rate\n",
    "accept_rate_nokidwidowed = df_bar_nokidwidowed/total_bar_visits*100\n",
    "print(\"Acceptance rate for the drivers with passengers other than kids, visiting bar more than once a month is \",accept_rate_nokidwidowed)\n"
   ]
  },
  {
   "cell_type": "code",
   "execution_count": 209,
   "metadata": {},
   "outputs": [
    {
     "name": "stdout",
     "output_type": "stream",
     "text": [
      "Total Drivers visited bar more than once a month, and under age of 30 are  202\n",
      "Acceptance rate for the drivers with passengers under age 30 visiting bar more than once a month is 26 percent.\n"
     ]
    }
   ],
   "source": [
    "#go to bars more than once a month and are under the age of 30 \n",
    "\n",
    "#cleansing data by replacing the age to categorize into 2 groups Below 25 ad Above 25\n",
    "df_bardrivers_age=df_bar_drivers.replace({'age': {'21': 'Below 30','46': 'Above 30', '26': 'Below 30','41': 'Above 30','31': 'Above 30','36': 'Above 30','50plus': 'Above 30','below21': 'Below 30'}}).reset_index()\n",
    "\n",
    "#querying dataframe to extract records where drivers visited Bar more than once a month\n",
    "df_bardrivers_30age =df_bardrivers_age.query('Bar in @once_a_month')\n",
    "df_bardrivers_30age = df_bardrivers_30age.query(\"age == 'Below 30'\")\n",
    "\n",
    "#Get total rows in the dataframe\n",
    "df_bardrivers_30age = len(df_bardrivers_30age)\n",
    "print(\"Total Drivers visited bar more than once a month, and under age of 30 are \", df_bardrivers_30age)\n",
    "\n",
    "#Calculate the acceptance rate\n",
    "accept_rate_30age = math.ceil(df_bardrivers_30age/total_bar_visits*100)\n",
    "print(\"Acceptance rate for the drivers with passengers under age 30 visiting bar more than once a month is \" + str(accept_rate_30age) + \" percent.\")"
   ]
  },
  {
   "cell_type": "code",
   "execution_count": 210,
   "metadata": {},
   "outputs": [
    {
     "name": "stdout",
     "output_type": "stream",
     "text": [
      "Total visits to cheap restaurants is  1261\n",
      "Total Drivers visited cheap restaurant more than 4times  a month, and income less than 50k is  209\n",
      "Acceptance rate for the drivers with income less than 50k and visiting more than 4times a month 16.57414750198255 percent.\n"
     ]
    }
   ],
   "source": [
    "#go to cheap restaurants more than 4 times a month and income is less than 50K\n",
    "\n",
    "#Perform data cleansing by exlcuding rows where blanks exists in Bar column for the coupon='Bar'\n",
    "df_drivers_chprest = df_bar.dropna(subset=['RestaurantLessThan20'])\n",
    "\n",
    "total_visits_chprestuarant = df_drivers_chprest.query('RestaurantLessThan20 != \"never\"')\n",
    "print(\"Total visits to cheap restaurants is \", len(total_visits_chprestuarant))\n",
    "\n",
    "\n",
    "# defining list for visits more than 4 times a month\n",
    "four_times_a_month = ['4~8','gt8']\n",
    "\n",
    "# defining list for income less than 50k\n",
    "income_less_50k =['$12500 - $24999','$37500 - $49999', '$25000 - $37499','Less than $12500']\n",
    "\n",
    "\n",
    "#querying dataframe to extract records where drivers income is less than 50k and visited more than 4times a month\n",
    "\n",
    "df_drivers_income50k = df_bar.query('income in @income_less_50k')\n",
    "df_drivers_income50k = df_drivers_income50k.query('RestaurantLessThan20 in @four_times_a_month')\n",
    "\n",
    "#Get total rows in the dataframe\n",
    "df_drivers_income50k = len(df_drivers_income50k)\n",
    "print(\"Total Drivers visited cheap restaurant more than 4times  a month, and income less than 50k is \", df_drivers_income50k)\n",
    "\n",
    "#Calculate the acceptance rate\n",
    "accept_rate_chprestaurant = df_drivers_income50k/len(total_visits_chprestuarant)*100\n",
    "\n",
    "#Acceptance rate\n",
    "print(\"Acceptance rate for the drivers with income less than 50k and visiting more than 4times a month \" + str(accept_rate_chprestaurant) + \" percent.\")\n"
   ]
  },
  {
   "cell_type": "markdown",
   "metadata": {},
   "source": [
    "7.  Based on these observations, what do you hypothesize about drivers who accepted the bar coupons?"
   ]
  },
  {
   "cell_type": "code",
   "execution_count": 211,
   "metadata": {},
   "outputs": [],
   "source": [
    "# The overall acceptance rate for the Bar coupon is 44%\n",
    "\n",
    "#1. Drivers who had visits 1-3 times a month is 13%\n",
    "#2. Drivers who had visits more than 3 times a month is 7.85%\n",
    "#3. Drivers above 25 years of age is 26%\n",
    "#4. All others drivers excluding above 25 years of age is 10%\n",
    "#5. Drivers with passengers other than kids, visiting bar visiting more than once a month is 33%.\n",
    "#6. Drivers with passengers with kids, visiting bar visiting less than once a month is 1%.\n",
    "#7. Drivers with passengers other than kids, visiting bar more than once a month is  32%\n",
    "#8. Drivers with passengers under age 30 visiting bar more than once a month is 26%.\n",
    "#9. Drivers with income less than 50k and visiting more than four times a month 16.57%.\n",
    "\n",
    "\n",
    "\n"
   ]
  },
  {
   "cell_type": "markdown",
   "metadata": {},
   "source": [
    "### Independent Investigation\n",
    "\n",
    "Using the bar coupon example as motivation, you are to explore one of the other coupon groups and try to determine the characteristics of passengers who accept the coupons.  "
   ]
  },
  {
   "cell_type": "code",
   "execution_count": 221,
   "metadata": {},
   "outputs": [],
   "source": [
    "# The other coupon group is Coffee House coupon\n",
    "#Creating new data frame df_bar by filtering the rows which have coupon is Coffee House and excluding null values in Bar column\n",
    "df_coffee = data.query(\"coupon == 'Coffee House'\")\n"
   ]
  },
  {
   "cell_type": "code",
   "execution_count": 228,
   "metadata": {},
   "outputs": [
    {
     "data": {
      "text/html": [
       "<div>\n",
       "<style scoped>\n",
       "    .dataframe tbody tr th:only-of-type {\n",
       "        vertical-align: middle;\n",
       "    }\n",
       "\n",
       "    .dataframe tbody tr th {\n",
       "        vertical-align: top;\n",
       "    }\n",
       "\n",
       "    .dataframe thead th {\n",
       "        text-align: right;\n",
       "    }\n",
       "</style>\n",
       "<table border=\"1\" class=\"dataframe\">\n",
       "  <thead>\n",
       "    <tr style=\"text-align: right;\">\n",
       "      <th></th>\n",
       "      <th>coupon</th>\n",
       "      <th>total_count</th>\n",
       "      <th>Accept_Reject</th>\n",
       "      <th>coupon_cnt</th>\n",
       "      <th>acceptance_proportion %</th>\n",
       "    </tr>\n",
       "  </thead>\n",
       "  <tbody>\n",
       "    <tr>\n",
       "      <th>0</th>\n",
       "      <td>Coffee House</td>\n",
       "      <td>2645</td>\n",
       "      <td>Accepted</td>\n",
       "      <td>1354</td>\n",
       "      <td>51.190926</td>\n",
       "    </tr>\n",
       "  </tbody>\n",
       "</table>\n",
       "</div>"
      ],
      "text/plain": [
       "         coupon  total_count Accept_Reject  coupon_cnt  \\\n",
       "0  Coffee House         2645      Accepted        1354   \n",
       "\n",
       "   acceptance_proportion %  \n",
       "0                51.190926  "
      ]
     },
     "execution_count": 228,
     "metadata": {},
     "output_type": "execute_result"
    }
   ],
   "source": [
    "# What proportion of Coffee House coupons were accepted?\n",
    "\n",
    "# Grouping the data based on the coupon category to get the total count of coupons\n",
    "data_coffee_acceptance=df_coffee.groupby(['coupon']).size().to_frame('total_count').reset_index()\n",
    "\n",
    "\n",
    "#Creating another data frame to get th count of coupons based on acceptance or rejection\n",
    "data_coffeecoupon_split= df_coffee.query(\"Y ==1\").groupby(['coupon','Accept_Reject']).size().to_frame('coupon_cnt').reset_index()\n",
    "\n",
    "#Merging data_acceptance and data_coupon_split dataframes\n",
    "data_coffee_merged=pd.merge(left=data_coffee_acceptance, right=data_coffeecoupon_split, on='coupon', how='inner')\n",
    "\n",
    "#New attribute being added to the dataframe data_merged to display the acceptance proportion percent for each coupon category\n",
    "data_coffee_merged['acceptance_proportion %'] = data_coffee_merged['coupon_cnt']/data_coffee_merged['total_count']*100\n",
    "\n",
    "\n",
    "data_coffee_merged"
   ]
  },
  {
   "cell_type": "code",
   "execution_count": 230,
   "metadata": {},
   "outputs": [
    {
     "data": {
      "text/html": [
       "<div>\n",
       "<style scoped>\n",
       "    .dataframe tbody tr th:only-of-type {\n",
       "        vertical-align: middle;\n",
       "    }\n",
       "\n",
       "    .dataframe tbody tr th {\n",
       "        vertical-align: top;\n",
       "    }\n",
       "\n",
       "    .dataframe thead th {\n",
       "        text-align: right;\n",
       "    }\n",
       "</style>\n",
       "<table border=\"1\" class=\"dataframe\">\n",
       "  <thead>\n",
       "    <tr style=\"text-align: right;\">\n",
       "      <th></th>\n",
       "      <th>temperature</th>\n",
       "      <th>Total Visits</th>\n",
       "    </tr>\n",
       "  </thead>\n",
       "  <tbody>\n",
       "    <tr>\n",
       "      <th>0</th>\n",
       "      <td>30</td>\n",
       "      <td>147</td>\n",
       "    </tr>\n",
       "    <tr>\n",
       "      <th>1</th>\n",
       "      <td>55</td>\n",
       "      <td>497</td>\n",
       "    </tr>\n",
       "    <tr>\n",
       "      <th>2</th>\n",
       "      <td>80</td>\n",
       "      <td>1372</td>\n",
       "    </tr>\n",
       "  </tbody>\n",
       "</table>\n",
       "</div>"
      ],
      "text/plain": [
       "   temperature  Total Visits\n",
       "0           30           147\n",
       "1           55           497\n",
       "2           80          1372"
      ]
     },
     "execution_count": 230,
     "metadata": {},
     "output_type": "execute_result"
    }
   ],
   "source": [
    "# 2. Explore at what temperatures passengers visiting coffeehouse\n",
    "\n",
    "df_coffee_visits = df_coffee.dropna(subset=['Bar'])\n",
    "\n",
    "df_coffee_visits = df_coffee_visits.query(\"CoffeeHouse != 'never'\")\n",
    "\n",
    "df_coffee_temp = df_coffee_visits.groupby('temperature').size().to_frame('Total Visits').reset_index()\n",
    "\n",
    "df_coffee_temp\n",
    "\n"
   ]
  },
  {
   "cell_type": "code",
   "execution_count": 234,
   "metadata": {},
   "outputs": [
    {
     "data": {
      "image/png": "[encoded data removed]",
      "text/plain": [
       "<Figure size 640x480 with 1 Axes>"
      ]
     },
     "metadata": {},
     "output_type": "display_data"
    }
   ],
   "source": [
    "fig = sns.barplot(data=df_coffee_temp,x='temperature',y='Total Visits')\n",
    "\n",
    "\n",
    "#Interesting observation in the above table, when the temperature is at 80, there are more visits to the coffee house. \n",
    "#What is not clear is whether the visits were for hot or cold coffee\n"
   ]
  },
  {
   "cell_type": "code",
   "execution_count": 239,
   "metadata": {},
   "outputs": [
    {
     "data": {
      "text/html": [
       "<div>\n",
       "<style scoped>\n",
       "    .dataframe tbody tr th:only-of-type {\n",
       "        vertical-align: middle;\n",
       "    }\n",
       "\n",
       "    .dataframe tbody tr th {\n",
       "        vertical-align: top;\n",
       "    }\n",
       "\n",
       "    .dataframe thead th {\n",
       "        text-align: right;\n",
       "    }\n",
       "</style>\n",
       "<table border=\"1\" class=\"dataframe\">\n",
       "  <thead>\n",
       "    <tr style=\"text-align: right;\">\n",
       "      <th></th>\n",
       "      <th>age</th>\n",
       "      <th>Total Visits</th>\n",
       "    </tr>\n",
       "  </thead>\n",
       "  <tbody>\n",
       "    <tr>\n",
       "      <th>0</th>\n",
       "      <td>21-30</td>\n",
       "      <td>843</td>\n",
       "    </tr>\n",
       "    <tr>\n",
       "      <th>1</th>\n",
       "      <td>31-40</td>\n",
       "      <td>511</td>\n",
       "    </tr>\n",
       "    <tr>\n",
       "      <th>2</th>\n",
       "      <td>41-50</td>\n",
       "      <td>312</td>\n",
       "    </tr>\n",
       "    <tr>\n",
       "      <th>3</th>\n",
       "      <td>&lt;21</td>\n",
       "      <td>99</td>\n",
       "    </tr>\n",
       "    <tr>\n",
       "      <th>4</th>\n",
       "      <td>&gt;50</td>\n",
       "      <td>251</td>\n",
       "    </tr>\n",
       "  </tbody>\n",
       "</table>\n",
       "</div>"
      ],
      "text/plain": [
       "     age  Total Visits\n",
       "0  21-30           843\n",
       "1  31-40           511\n",
       "2  41-50           312\n",
       "3    <21            99\n",
       "4    >50           251"
      ]
     },
     "execution_count": 239,
     "metadata": {},
     "output_type": "execute_result"
    }
   ],
   "source": [
    "# 3. Explore the age groups visiting the coffee house more than once in a month\n",
    "\n",
    "#Categorizing the age into fewer buckets\n",
    "df_coffee_age=df_coffee_visits.replace({'age': {'21': '21-30','46': '41-50', '26': '21-30','41': '41-50','31': '31-40','36': '31-40','50plus': '>50','below21': '<21'}}).reset_index()\n",
    "\n",
    "#Grouping based on the age group\n",
    "df_coffee_age = df_coffee_age.groupby('age').size().to_frame('Total Visits').reset_index()\n",
    "\n",
    "df_coffee_age"
   ]
  },
  {
   "cell_type": "code",
   "execution_count": 243,
   "metadata": {},
   "outputs": [
    {
     "data": {
      "text/plain": [
       "Text(0.5, 1.0, ' Coffee Visits by Age Group')"
      ]
     },
     "execution_count": 243,
     "metadata": {},
     "output_type": "execute_result"
    },
    {
     "data": {
      "image/png": "[encoded data removed]",
      "text/plain": [
       "<Figure size 640x480 with 1 Axes>"
      ]
     },
     "metadata": {},
     "output_type": "display_data"
    }
   ],
   "source": [
    "fig = sns.barplot(data=df_coffee_age,x='age',y='Total Visits')\n",
    "\n",
    "fig.set_xlabel('Age Group')\n",
    "fig.set_ylabel('Total Coffee Visits')\n",
    "fig.set_title(' Coffee Visits by Age Group')\n",
    "\n"
   ]
  },
  {
   "cell_type": "code",
   "execution_count": null,
   "metadata": {},
   "outputs": [],
   "source": []
  }
 ],
 "metadata": {
  "kernelspec": {
   "display_name": "Python 3 (ipykernel)",
   "language": "python",
   "name": "python3"
  },
  "language_info": {
   "codemirror_mode": {
    "name": "ipython",
    "version": 3
   },
   "file_extension": ".py",
   "mimetype": "text/x-python",
   "name": "python",
   "nbconvert_exporter": "python",
   "pygments_lexer": "ipython3",
   "version": "3.11.5"
  },
  "widgets": {
   "application/vnd.jupyter.widget-state+json": {
    "state": {},
    "version_major": 2,
    "version_minor": 0
   }
  }
 },
 "nbformat": 4,
 "nbformat_minor": 4
}
